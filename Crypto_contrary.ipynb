{
 "cells": [
  {
   "cell_type": "markdown",
   "metadata": {},
   "source": [
    "## Research of Contrary effects on the cryptocurrency market\n",
    "\n",
    "##### 02.06.2019\n"
   ]
  },
  {
   "cell_type": "markdown",
   "metadata": {},
   "source": [
    "TODO:\n",
    "* Get data of all the cryptocurrencies from CoinMarketCap (2015-2019)\n",
    "* Filter the data, fill in missing values (use relation of MA to close price)\n",
    "* Make a ranking system, giving back top performing or worst performing currencies out of TOP100 list (top 100 by market cap)\n",
    "* Make a \"Broker simulator\"\n",
    "* Implement slipperage\n",
    "* Implement transaction cost\n",
    "* Implement 14-day MA for volume and cut off currencies under 100 USD daily volume\n",
    "* Keep in mind, previous testing was for data (12.05.2014 - 28.10.2017)\n",
    "* Try four strategies (long top, long bottom, short top, short bottom)\n",
    "* Make a strategy, but measure performance in volatility\n",
    "* Output the performance metrics for portfolios / strategies"
   ]
  },
  {
   "cell_type": "code",
   "execution_count": 2,
   "metadata": {},
   "outputs": [],
   "source": [
    "'''\n",
    "Loading neede libraries\n",
    "'''\n",
    "\n",
    "import pandas as pd\n",
    "import numpy as np\n",
    "\n",
    "from cmc import coinmarketcap\n",
    "from datetime import datetime"
   ]
  },
  {
   "cell_type": "code",
   "execution_count": 14,
   "metadata": {},
   "outputs": [
    {
     "data": {
      "text/html": [
       "<div>\n",
       "<style scoped>\n",
       "    .dataframe tbody tr th:only-of-type {\n",
       "        vertical-align: middle;\n",
       "    }\n",
       "\n",
       "    .dataframe tbody tr th {\n",
       "        vertical-align: top;\n",
       "    }\n",
       "\n",
       "    .dataframe thead th {\n",
       "        text-align: right;\n",
       "    }\n",
       "</style>\n",
       "<table border=\"1\" class=\"dataframe\">\n",
       "  <thead>\n",
       "    <tr style=\"text-align: right;\">\n",
       "      <th></th>\n",
       "      <th>N</th>\n",
       "      <th>Name</th>\n",
       "      <th>Symbol</th>\n",
       "      <th>Market Cap</th>\n",
       "      <th>Price</th>\n",
       "      <th>Circulating Supply</th>\n",
       "      <th>Volume (24h)</th>\n",
       "      <th>1h</th>\n",
       "      <th>24h</th>\n",
       "      <th>7d</th>\n",
       "    </tr>\n",
       "  </thead>\n",
       "  <tbody>\n",
       "    <tr>\n",
       "      <th>0</th>\n",
       "      <td>1</td>\n",
       "      <td>Bitcoin</td>\n",
       "      <td>BTC</td>\n",
       "      <td>$154 424 589 087</td>\n",
       "      <td>$8 706,23</td>\n",
       "      <td>17 737 250</td>\n",
       "      <td>$20 911 852 023</td>\n",
       "      <td>0,32%</td>\n",
       "      <td>1,63%</td>\n",
       "      <td>3,76%</td>\n",
       "    </tr>\n",
       "    <tr>\n",
       "      <th>1</th>\n",
       "      <td>2</td>\n",
       "      <td>Ethereum</td>\n",
       "      <td>ETH</td>\n",
       "      <td>$28 595 883 288</td>\n",
       "      <td>$268,94</td>\n",
       "      <td>106 327 617</td>\n",
       "      <td>$9 029 485 509</td>\n",
       "      <td>0,54%</td>\n",
       "      <td>0,99%</td>\n",
       "      <td>3,49%</td>\n",
       "    </tr>\n",
       "    <tr>\n",
       "      <th>2</th>\n",
       "      <td>3</td>\n",
       "      <td>XRP</td>\n",
       "      <td>XRP</td>\n",
       "      <td>$18 564 318 598</td>\n",
       "      <td>$0,440101</td>\n",
       "      <td>42 181 995 112 *</td>\n",
       "      <td>$1 611 736 119</td>\n",
       "      <td>0,44%</td>\n",
       "      <td>2,21%</td>\n",
       "      <td>10,68%</td>\n",
       "    </tr>\n",
       "    <tr>\n",
       "      <th>3</th>\n",
       "      <td>4</td>\n",
       "      <td>Bitcoin Cash</td>\n",
       "      <td>BCH</td>\n",
       "      <td>$7 859 798 858</td>\n",
       "      <td>$441,16</td>\n",
       "      <td>17 816 350</td>\n",
       "      <td>$1 723 223 343</td>\n",
       "      <td>0,30%</td>\n",
       "      <td>0,73%</td>\n",
       "      <td>5,13%</td>\n",
       "    </tr>\n",
       "    <tr>\n",
       "      <th>4</th>\n",
       "      <td>5</td>\n",
       "      <td>Litecoin</td>\n",
       "      <td>LTC</td>\n",
       "      <td>$7 072 733 092</td>\n",
       "      <td>$113,98</td>\n",
       "      <td>62 050 226</td>\n",
       "      <td>$3 440 853 410</td>\n",
       "      <td>0,26%</td>\n",
       "      <td>0,94%</td>\n",
       "      <td>7,08%</td>\n",
       "    </tr>\n",
       "  </tbody>\n",
       "</table>\n",
       "</div>"
      ],
      "text/plain": [
       "   N          Name Symbol        Market Cap      Price Circulating Supply  \\\n",
       "0  1       Bitcoin    BTC  $154 424 589 087  $8 706,23         17 737 250   \n",
       "1  2      Ethereum    ETH   $28 595 883 288    $268,94        106 327 617   \n",
       "2  3           XRP    XRP   $18 564 318 598  $0,440101   42 181 995 112 *   \n",
       "3  4  Bitcoin Cash    BCH    $7 859 798 858    $441,16         17 816 350   \n",
       "4  5      Litecoin    LTC    $7 072 733 092    $113,98         62 050 226   \n",
       "\n",
       "      Volume (24h)     1h    24h      7d  \n",
       "0  $20 911 852 023  0,32%  1,63%   3,76%  \n",
       "1   $9 029 485 509  0,54%  0,99%   3,49%  \n",
       "2   $1 611 736 119  0,44%  2,21%  10,68%  \n",
       "3   $1 723 223 343  0,30%  0,73%   5,13%  \n",
       "4   $3 440 853 410  0,26%  0,94%   7,08%  "
      ]
     },
     "execution_count": 14,
     "metadata": {},
     "output_type": "execute_result"
    }
   ],
   "source": [
    "'''\n",
    "Gettin a list of all cryptocurrencies, using CoinMarketCap and making a CSV\n",
    "'''\n",
    "\n",
    "#uploading data to the dataframe\n",
    "currencies = pd.read_csv(\"currencies.csv\", sep = ';') \n",
    "currencies.head()\n",
    "\n",
    "#using this we willget data from the next library"
   ]
  },
  {
   "cell_type": "code",
   "execution_count": 11,
   "metadata": {},
   "outputs": [
    {
     "name": "stderr",
     "output_type": "stream",
     "text": [
      "100%|████████████████████████████████████████████████████████████████████████████████████| 3/3 [00:01<00:00,  1.81it/s]\n"
     ]
    },
    {
     "name": "stdout",
     "output_type": "stream",
     "text": [
      "Loading data for bitcoin from data/coinmarketcap\\bitcoin_20170601_20180601.msg\n",
      "Loading data for ripple from data/coinmarketcap\\ripple_20170601_20180601.msg\n",
      "Loading data for ethereum from data/coinmarketcap\\ethereum_20170601_20180601.msg\n"
     ]
    },
    {
     "name": "stderr",
     "output_type": "stream",
     "text": [
      "0it [00:00, ?it/s]\n"
     ]
    }
   ],
   "source": [
    "'''\n",
    "Data loading\n",
    "\n",
    "Using this library: https://github.com/Waultics/coinmarketcap-history\n",
    "'''\n",
    "\n",
    "\n",
    "#got a list of all \n",
    "\n",
    "cryptos = ['bitcoin','ripple','ethereum']\n",
    "start_date, end_date = datetime(2017,6,1), datetime(2018,6,1)\n",
    "\n",
    "# retrieves data and stores .msg files in DOWNLOAD_DIR\n",
    "df_cryptos = coinmarketcap.getDataFor(cryptos, start_date, end_date, DOWNLOAD_DIR = 'data/coinmarketcap')\n",
    "\n",
    "# does not retreive data. Instead, pulls cached data from DOWNLOAD_DIR\n",
    "df_cryptos = coinmarketcap.getDataFor(cryptos, start_date, end_date, DOWNLOAD_DIR = 'data/coinmarketcap')"
   ]
  },
  {
   "cell_type": "code",
   "execution_count": null,
   "metadata": {},
   "outputs": [],
   "source": []
  }
 ],
 "metadata": {
  "kernelspec": {
   "display_name": "Python 3",
   "language": "python",
   "name": "python3"
  },
  "language_info": {
   "codemirror_mode": {
    "name": "ipython",
    "version": 3
   },
   "file_extension": ".py",
   "mimetype": "text/x-python",
   "name": "python",
   "nbconvert_exporter": "python",
   "pygments_lexer": "ipython3",
   "version": "3.6.5"
  }
 },
 "nbformat": 4,
 "nbformat_minor": 2
}
